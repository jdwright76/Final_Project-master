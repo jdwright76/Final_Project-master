{
 "cells": [
  {
   "cell_type": "code",
   "execution_count": 1,
   "metadata": {},
   "outputs": [],
   "source": [
    "import pymongo\n",
    "import pandas as pd\n",
    "import nltk\n",
    "import os\n",
    "conn = 'mongodb://timanderin.info:27017'\n",
    "client = pymongo.MongoClient(conn)\n",
    "speechDB = client.speech_db\n",
    "debateCOL = speechDB.presidential_debates\n",
    "presidential_speech = speechDB.presidential_speech\n",
    "df = pd.read_csv(os.path.join(\"..\",\"Erin\",\"all.csv\"), index_col = 0)\n"
   ]
  },
  {
   "cell_type": "code",
   "execution_count": 2,
   "metadata": {},
   "outputs": [
    {
     "name": "stderr",
     "output_type": "stream",
     "text": [
      "/Users/Jae/anaconda3/lib/python3.6/site-packages/ipykernel_launcher.py:4: DeprecationWarning: count is deprecated. Use estimated_document_count or count_documents instead. Please note that $where must be replaced by $expr, $near must be replaced by $geoWithin with $center, and $nearSphere must be replaced by $geoWithin with $centerSphere\n",
      "  after removing the cwd from sys.path.\n"
     ]
    },
    {
     "name": "stdout",
     "output_type": "stream",
     "text": [
      "2016-09-26 00:00:00\n",
      "2016-10-04 00:00:00\n",
      "2016-10-09 00:00:00\n",
      "2016-10-19 00:00:00\n",
      "2012-10-03 00:00:00\n",
      "2012-10-11 00:00:00\n",
      "2012-10-16 00:00:00\n",
      "2012-10-22 00:00:00\n",
      "2008-10-07 00:00:00\n",
      "2008-10-15 00:00:00\n",
      "2004-10-13 00:00:00\n",
      "2004-10-08 00:00:00\n",
      "2004-10-05 00:00:00\n",
      "2004-09-30 00:00:00\n",
      "2000-10-03 00:00:00\n",
      "2000-10-05 00:00:00\n",
      "2000-10-11 00:00:00\n",
      "2000-10-17 00:00:00\n",
      "1996-10-06 00:00:00\n",
      "1996-10-09 00:00:00\n",
      "1996-10-16 00:00:00\n",
      "1992-10-11 00:00:00\n",
      "1992-10-11 00:00:00\n",
      "1992-10-13 00:00:00\n",
      "1992-10-15 00:00:00\n",
      "1992-10-15 00:00:00\n",
      "1992-10-19 00:00:00\n",
      "1988-09-25 00:00:00\n",
      "1988-10-05 00:00:00\n",
      "1988-10-13 00:00:00\n",
      "1984-10-07 00:00:00\n",
      "1984-10-11 00:00:00\n",
      "1984-10-21 00:00:00\n",
      "1980-09-21 00:00:00\n",
      "1980-10-28 00:00:00\n",
      "1976-09-23 00:00:00\n",
      "1976-10-06 00:00:00\n",
      "1976-10-22 00:00:00\n",
      "1960-09-26 00:00:00\n",
      "1960-10-07 00:00:00\n",
      "1960-10-13 00:00:00\n",
      "1960-10-21 00:00:00\n"
     ]
    }
   ],
   "source": [
    "test = debateCOL.find()\n",
    "i= 0\n",
    "\n",
    "while i < debateCOL.count():\n",
    "    print(test[i]['year'])\n",
    "    i=i+1"
   ]
  },
  {
   "cell_type": "code",
   "execution_count": 4,
   "metadata": {},
   "outputs": [
    {
     "data": {
      "text/html": [
       "<div>\n",
       "<style scoped>\n",
       "    .dataframe tbody tr th:only-of-type {\n",
       "        vertical-align: middle;\n",
       "    }\n",
       "\n",
       "    .dataframe tbody tr th {\n",
       "        vertical-align: top;\n",
       "    }\n",
       "\n",
       "    .dataframe thead th {\n",
       "        text-align: right;\n",
       "    }\n",
       "</style>\n",
       "<table border=\"1\" class=\"dataframe\">\n",
       "  <thead>\n",
       "    <tr style=\"text-align: right;\">\n",
       "      <th></th>\n",
       "      <th>year</th>\n",
       "      <th>text</th>\n",
       "      <th>tag</th>\n",
       "      <th>president</th>\n",
       "      <th>decade</th>\n",
       "    </tr>\n",
       "  </thead>\n",
       "  <tbody>\n",
       "    <tr>\n",
       "      <th>0</th>\n",
       "      <td>2019</td>\n",
       "      <td>Madam Speaker, Mr. Vice President, Members of ...</td>\n",
       "      <td>speech</td>\n",
       "      <td>Donald Trump</td>\n",
       "      <td>2010</td>\n",
       "    </tr>\n",
       "    <tr>\n",
       "      <th>1</th>\n",
       "      <td>2019</td>\n",
       "      <td>THE PRESIDENT: Just a short time ago, I had th...</td>\n",
       "      <td>speech</td>\n",
       "      <td>Donald Trump</td>\n",
       "      <td>2010</td>\n",
       "    </tr>\n",
       "    <tr>\n",
       "      <th>2</th>\n",
       "      <td>2018</td>\n",
       "      <td>THE PRESIDENT: Madam President, Mr. Secretary-...</td>\n",
       "      <td>speech</td>\n",
       "      <td>Donald Trump</td>\n",
       "      <td>2010</td>\n",
       "    </tr>\n",
       "    <tr>\n",
       "      <th>3</th>\n",
       "      <td>2018</td>\n",
       "      <td>THE PRESIDENT: Thank you, Lee. Thank you, Lee....</td>\n",
       "      <td>speech</td>\n",
       "      <td>Donald Trump</td>\n",
       "      <td>2010</td>\n",
       "    </tr>\n",
       "    <tr>\n",
       "      <th>4</th>\n",
       "      <td>2018</td>\n",
       "      <td>THE PRESIDENT: Thank you to our First Lady, Me...</td>\n",
       "      <td>speech</td>\n",
       "      <td>Donald Trump</td>\n",
       "      <td>2010</td>\n",
       "    </tr>\n",
       "  </tbody>\n",
       "</table>\n",
       "</div>"
      ],
      "text/plain": [
       "   year                                               text     tag  \\\n",
       "0  2019  Madam Speaker, Mr. Vice President, Members of ...  speech   \n",
       "1  2019  THE PRESIDENT: Just a short time ago, I had th...  speech   \n",
       "2  2018  THE PRESIDENT: Madam President, Mr. Secretary-...  speech   \n",
       "3  2018  THE PRESIDENT: Thank you, Lee. Thank you, Lee....  speech   \n",
       "4  2018  THE PRESIDENT: Thank you to our First Lady, Me...  speech   \n",
       "\n",
       "      president  decade  \n",
       "0  Donald Trump    2010  \n",
       "1  Donald Trump    2010  \n",
       "2  Donald Trump    2010  \n",
       "3  Donald Trump    2010  \n",
       "4  Donald Trump    2010  "
      ]
     },
     "execution_count": 4,
     "metadata": {},
     "output_type": "execute_result"
    }
   ],
   "source": [
    "df.head()"
   ]
  },
  {
   "cell_type": "code",
   "execution_count": 5,
   "metadata": {},
   "outputs": [],
   "source": [
    "df2 = df.drop(columns = 'president')"
   ]
  },
  {
   "cell_type": "code",
   "execution_count": 6,
   "metadata": {},
   "outputs": [],
   "source": [
    "df2 = df2.dropna()"
   ]
  },
  {
   "cell_type": "code",
   "execution_count": 10,
   "metadata": {},
   "outputs": [
    {
     "data": {
      "text/html": [
       "<div>\n",
       "<style scoped>\n",
       "    .dataframe tbody tr th:only-of-type {\n",
       "        vertical-align: middle;\n",
       "    }\n",
       "\n",
       "    .dataframe tbody tr th {\n",
       "        vertical-align: top;\n",
       "    }\n",
       "\n",
       "    .dataframe thead th {\n",
       "        text-align: right;\n",
       "    }\n",
       "</style>\n",
       "<table border=\"1\" class=\"dataframe\">\n",
       "  <thead>\n",
       "    <tr style=\"text-align: right;\">\n",
       "      <th></th>\n",
       "      <th>year</th>\n",
       "      <th>text</th>\n",
       "      <th>tag</th>\n",
       "      <th>decade</th>\n",
       "    </tr>\n",
       "  </thead>\n",
       "  <tbody>\n",
       "    <tr>\n",
       "      <th>0</th>\n",
       "      <td>2019</td>\n",
       "      <td>Madam Speaker, Mr. Vice President, Members of ...</td>\n",
       "      <td>speech</td>\n",
       "      <td>2010</td>\n",
       "    </tr>\n",
       "    <tr>\n",
       "      <th>1</th>\n",
       "      <td>2019</td>\n",
       "      <td>THE PRESIDENT: Just a short time ago, I had th...</td>\n",
       "      <td>speech</td>\n",
       "      <td>2010</td>\n",
       "    </tr>\n",
       "    <tr>\n",
       "      <th>2</th>\n",
       "      <td>2018</td>\n",
       "      <td>THE PRESIDENT: Madam President, Mr. Secretary-...</td>\n",
       "      <td>speech</td>\n",
       "      <td>2010</td>\n",
       "    </tr>\n",
       "    <tr>\n",
       "      <th>3</th>\n",
       "      <td>2018</td>\n",
       "      <td>THE PRESIDENT: Thank you, Lee. Thank you, Lee....</td>\n",
       "      <td>speech</td>\n",
       "      <td>2010</td>\n",
       "    </tr>\n",
       "    <tr>\n",
       "      <th>4</th>\n",
       "      <td>2018</td>\n",
       "      <td>THE PRESIDENT: Thank you to our First Lady, Me...</td>\n",
       "      <td>speech</td>\n",
       "      <td>2010</td>\n",
       "    </tr>\n",
       "  </tbody>\n",
       "</table>\n",
       "</div>"
      ],
      "text/plain": [
       "   year                                               text     tag  decade\n",
       "0  2019  Madam Speaker, Mr. Vice President, Members of ...  speech    2010\n",
       "1  2019  THE PRESIDENT: Just a short time ago, I had th...  speech    2010\n",
       "2  2018  THE PRESIDENT: Madam President, Mr. Secretary-...  speech    2010\n",
       "3  2018  THE PRESIDENT: Thank you, Lee. Thank you, Lee....  speech    2010\n",
       "4  2018  THE PRESIDENT: Thank you to our First Lady, Me...  speech    2010"
      ]
     },
     "execution_count": 10,
     "metadata": {},
     "output_type": "execute_result"
    }
   ],
   "source": [
    "df2.head()"
   ]
  },
  {
   "cell_type": "code",
   "execution_count": 21,
   "metadata": {},
   "outputs": [],
   "source": [
    "from sklearn.model_selection import train_test_split\n",
    "from sklearn.preprocessing import LabelEncoder, MaxAbsScaler\n",
    "from tensorflow.keras.utils import to_categorical\n",
    "from sklearn.feature_extraction.text import CountVectorizer\n",
    "\n",
    "X = df2['text']\n",
    "tf_vectorizer = CountVectorizer(min_df=2, max_df = .95 ,ngram_range = (1,3), stop_words='english')\n",
    "tf_vectorizer.fit(X)\n",
    "tf = tf_vectorizer.transform(X)\n",
    "y = df2['decade']\n",
    "\n",
    "X_train, X_test, y_train, y_test = train_test_split(tf, y, random_state=1, stratify=y)\n",
    "X_scaler = MaxAbsScaler().fit(X_train)\n",
    "X_train_scaled = X_scaler.transform(X_train)\n",
    "X_test_scaled = X_scaler.transform(X_test)"
   ]
  },
  {
   "cell_type": "code",
   "execution_count": 29,
   "metadata": {},
   "outputs": [
    {
     "data": {
      "text/plain": [
       "(1028,)"
      ]
     },
     "execution_count": 29,
     "metadata": {},
     "output_type": "execute_result"
    }
   ],
   "source": [
    "X_train_scaled.shape\n",
    "y.shape\n"
   ]
  },
  {
   "cell_type": "code",
   "execution_count": 23,
   "metadata": {},
   "outputs": [
    {
     "data": {
      "text/plain": [
       "MultinomialNB(alpha=1.0, class_prior=None, fit_prior=True)"
      ]
     },
     "execution_count": 23,
     "metadata": {},
     "output_type": "execute_result"
    }
   ],
   "source": [
    "from sklearn.naive_bayes import MultinomialNB\n",
    "clf = MultinomialNB()\n",
    "clf.fit(X_train_scaled, y_train)"
   ]
  },
  {
   "cell_type": "code",
   "execution_count": 24,
   "metadata": {},
   "outputs": [
    {
     "data": {
      "text/plain": [
       "0.669260700389105"
      ]
     },
     "execution_count": 24,
     "metadata": {},
     "output_type": "execute_result"
    }
   ],
   "source": [
    "clf.score(X_test_scaled, y_test)"
   ]
  },
  {
   "cell_type": "code",
   "execution_count": null,
   "metadata": {},
   "outputs": [],
   "source": []
  }
 ],
 "metadata": {
  "kernelspec": {
   "display_name": "Python 3",
   "language": "python",
   "name": "python3"
  },
  "language_info": {
   "codemirror_mode": {
    "name": "ipython",
    "version": 3
   },
   "file_extension": ".py",
   "mimetype": "text/x-python",
   "name": "python",
   "nbconvert_exporter": "python",
   "pygments_lexer": "ipython3",
   "version": "3.6.8"
  }
 },
 "nbformat": 4,
 "nbformat_minor": 2
}
