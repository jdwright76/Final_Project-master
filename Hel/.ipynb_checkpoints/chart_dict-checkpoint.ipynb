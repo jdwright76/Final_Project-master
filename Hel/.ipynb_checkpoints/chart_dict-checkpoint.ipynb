{
 "cells": [
  {
   "cell_type": "code",
   "execution_count": null,
   "metadata": {},
   "outputs": [],
   "source": [
    "import pymongo\n",
    "import nltk\n",
    "import pandas as pd\n",
    "\n",
    "# The default port used by MongoDB is 27017\n",
    "# https://docs.mongodb.com/manual/reference/default-mongodb-port/\n",
    "conn = 'mongodb://timanderin.info:27017'\n",
    "client = pymongo.MongoClient(conn)\n",
    "speechDB = client.speech_db\n",
    "debateCOL3 = speechDB.clean"
   ]
  },
  {
   "cell_type": "code",
   "execution_count": null,
   "metadata": {},
   "outputs": [],
   "source": [
    "emot_speech = debateCOL3.find()\n",
    "i = 0\n",
    "while i < debateCOL3.count():\n",
    "#     print(emot_speech[i]['emotion_IND'])\n",
    "    i = i+1"
   ]
  },
  {
   "cell_type": "code",
   "execution_count": null,
   "metadata": {},
   "outputs": [],
   "source": [
    "emotion = []\n",
    "decade = []\n",
    "for i in range(0,1026):\n",
    "    emotion.append(emot_speech[i]['emotion_IND'])\n",
    "    decade.append(emot_speech[i]['decade'])"
   ]
  },
  {
   "cell_type": "code",
   "execution_count": null,
   "metadata": {},
   "outputs": [],
   "source": [
    "df = pd.DataFrame({'Emotions':emotion, 'Decades':decade})\n",
    "df.head(15)"
   ]
  },
  {
   "cell_type": "code",
   "execution_count": null,
   "metadata": {},
   "outputs": [],
   "source": [
    "df.Emotions.apply(pd.Series)"
   ]
  },
  {
   "cell_type": "code",
   "execution_count": null,
   "metadata": {},
   "outputs": [],
   "source": [
    "df[['fear', 'anger', 'sadness', 'joy', 'surprise']] = df.Emotions.apply(pd.Series)*100\n",
    "df.head()"
   ]
  },
  {
   "cell_type": "code",
   "execution_count": null,
   "metadata": {},
   "outputs": [],
   "source": [
    "NoEmt_df = df.drop(columns=['Emotions'])\n",
    "NoEmt_df.head()"
   ]
  },
  {
   "cell_type": "code",
   "execution_count": null,
   "metadata": {},
   "outputs": [],
   "source": [
    "bydecades_df = NoEmt_df.groupby(['Decades']).mean()\n",
    "bydecades_df.head()"
   ]
  },
  {
   "cell_type": "code",
   "execution_count": null,
   "metadata": {},
   "outputs": [],
   "source": [
    "final_emot_df = bydecades_df.round(2)\n",
    "final_emot_df"
   ]
  },
  {
   "cell_type": "code",
   "execution_count": null,
   "metadata": {},
   "outputs": [],
   "source": [
    "resetindex_emot_df = final_emot_df.reset_index()\n",
    "resetindex_emot_df"
   ]
  },
  {
   "cell_type": "code",
   "execution_count": null,
   "metadata": {},
   "outputs": [],
   "source": [
    "df2dict=resetindex_emot_df.set_index('Decades').transpose().to_dict(orient='dict')\n",
    "df2dict"
   ]
  },
  {
   "cell_type": "code",
   "execution_count": null,
   "metadata": {},
   "outputs": [],
   "source": [
    "chart_data = []\n",
    "for k,v in df2dict.items():\n",
    "    chart_dict = {'Decade': k, 'Fear': v['fear'], 'Anger': v['anger'], 'Sadness': v['sadness'], 'Joy': v['joy'], 'Surprise': v['surprise']}\n",
    "#     print(chart_dict)\n",
    "    chart_data.append(chart_dict)\n",
    "print(chart_data)"
   ]
  }
 ],
 "metadata": {
  "kernelspec": {
   "display_name": "Python 3",
   "language": "python",
   "name": "python3"
  },
  "language_info": {
   "codemirror_mode": {
    "name": "ipython",
    "version": 3
   },
   "file_extension": ".py",
   "mimetype": "text/x-python",
   "name": "python",
   "nbconvert_exporter": "python",
   "pygments_lexer": "ipython3",
   "version": "3.7.1"
  }
 },
 "nbformat": 4,
 "nbformat_minor": 2
}
