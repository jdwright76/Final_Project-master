{
 "cells": [
  {
   "cell_type": "code",
   "execution_count": 40,
   "metadata": {},
   "outputs": [],
   "source": [
    "# Dependencies\n",
    "from splinter import Browser\n",
    "from bs4 import BeautifulSoup\n",
    "import datetime\n",
    "from dateutil.parser import parse\n",
    "import hashlib\n",
    "import pandas as pd\n",
    "import time"
   ]
  },
  {
   "cell_type": "code",
   "execution_count": 28,
   "metadata": {},
   "outputs": [
    {
     "name": "stdout",
     "output_type": "stream",
     "text": [
      "/usr/local/bin/chromedriver\r\n"
     ]
    }
   ],
   "source": [
    "# https://splinter.readthedocs.io/en/latest/drivers/chrome.html\n",
    "!which chromedriver"
   ]
  },
  {
   "cell_type": "code",
   "execution_count": 29,
   "metadata": {},
   "outputs": [],
   "source": [
    "executable_path = {'executable_path': '/usr/local/bin/chromedriver'}\n",
    "browser = Browser('chrome', **executable_path, headless=False)"
   ]
  },
  {
   "cell_type": "code",
   "execution_count": 30,
   "metadata": {},
   "outputs": [
    {
     "data": {
      "text/html": [
       "<div>\n",
       "<style scoped>\n",
       "    .dataframe tbody tr th:only-of-type {\n",
       "        vertical-align: middle;\n",
       "    }\n",
       "\n",
       "    .dataframe tbody tr th {\n",
       "        vertical-align: top;\n",
       "    }\n",
       "\n",
       "    .dataframe thead th {\n",
       "        text-align: right;\n",
       "    }\n",
       "</style>\n",
       "<table border=\"1\" class=\"dataframe\">\n",
       "  <thead>\n",
       "    <tr style=\"text-align: right;\">\n",
       "      <th></th>\n",
       "      <th>Date_Title</th>\n",
       "      <th>Link</th>\n",
       "    </tr>\n",
       "  </thead>\n",
       "  <tbody>\n",
       "    <tr>\n",
       "      <th>0</th>\n",
       "      <td>February 5, 2019: State of the Union Address</td>\n",
       "      <td>https://millercenter.org/the-presidency/presid...</td>\n",
       "    </tr>\n",
       "    <tr>\n",
       "      <th>1</th>\n",
       "      <td>January 19, 2019: Remarks about the US Souther...</td>\n",
       "      <td>https://millercenter.org/the-presidency/presid...</td>\n",
       "    </tr>\n",
       "    <tr>\n",
       "      <th>2</th>\n",
       "      <td>September 25, 2018: Address at the 73rd Sessio...</td>\n",
       "      <td>https://millercenter.org/the-presidency/presid...</td>\n",
       "    </tr>\n",
       "    <tr>\n",
       "      <th>3</th>\n",
       "      <td>July 24, 2018: Speech at the Veterans of Forei...</td>\n",
       "      <td>https://millercenter.org/the-presidency/presid...</td>\n",
       "    </tr>\n",
       "    <tr>\n",
       "      <th>4</th>\n",
       "      <td>March 19, 2018: Remarks on Combating the Opioi...</td>\n",
       "      <td>https://millercenter.org/the-presidency/presid...</td>\n",
       "    </tr>\n",
       "  </tbody>\n",
       "</table>\n",
       "</div>"
      ],
      "text/plain": [
       "                                          Date_Title  \\\n",
       "0       February 5, 2019: State of the Union Address   \n",
       "1  January 19, 2019: Remarks about the US Souther...   \n",
       "2  September 25, 2018: Address at the 73rd Sessio...   \n",
       "3  July 24, 2018: Speech at the Veterans of Forei...   \n",
       "4  March 19, 2018: Remarks on Combating the Opioi...   \n",
       "\n",
       "                                                Link  \n",
       "0  https://millercenter.org/the-presidency/presid...  \n",
       "1  https://millercenter.org/the-presidency/presid...  \n",
       "2  https://millercenter.org/the-presidency/presid...  \n",
       "3  https://millercenter.org/the-presidency/presid...  \n",
       "4  https://millercenter.org/the-presidency/presid...  "
      ]
     },
     "execution_count": 30,
     "metadata": {},
     "output_type": "execute_result"
    }
   ],
   "source": [
    "links_df = pd.read_excel('./link.xlsx', sheet_name=1)\n",
    "links_df.head()"
   ]
  },
  {
   "cell_type": "code",
   "execution_count": 31,
   "metadata": {},
   "outputs": [],
   "source": [
    "link_names = links_df['Link']"
   ]
  },
  {
   "cell_type": "code",
   "execution_count": 14,
   "metadata": {},
   "outputs": [],
   "source": [
    "\n"
   ]
  },
  {
   "cell_type": "code",
   "execution_count": 32,
   "metadata": {},
   "outputs": [],
   "source": [
    "#function to extract president's name\n",
    "\n",
    "def extract_president_name(soup):\n",
    "    name = soup.find('p', class_='president-name').text\n",
    "    return(name)"
   ]
  },
  {
   "cell_type": "code",
   "execution_count": 33,
   "metadata": {},
   "outputs": [],
   "source": [
    "#function to extract year from the url\n",
    "\n",
    "def parse_date_from_url(url):\n",
    "    date_token = url.strip('/').split('/')[-1]\n",
    "    # tokenize using '-' and assign the first three tokens to month, day and year\n",
    "    date_string = '-'.join(date_token.split('-')[0:3])\n",
    "    return parse(date_string).year"
   ]
  },
  {
   "cell_type": "code",
   "execution_count": 34,
   "metadata": {},
   "outputs": [],
   "source": [
    "#function to scrape the text\n",
    "\n",
    "def scrape_text(url):\n",
    "    debate_date = parse_date_from_url(url)\n",
    "    browser.visit(url)\n",
    "    # scrape text\n",
    "    html = browser.html\n",
    "    soup = BeautifulSoup(html, 'html.parser')\n",
    "    text_body = soup.find_all('div', class_='view-transcript')\n",
    "    debate_text = ''\n",
    "    for para in text_body[0].find_all('p', recursive='false'):\n",
    "        debate_text += para.text + '\\n'\n",
    "    debate_hash = hashlib.md5(debate_text.encode())\n",
    "    \n",
    "    presidents_name = extract_president_name(soup)\n",
    "    \n",
    "    return (debate_date, debate_hash.hexdigest(), debate_text, presidents_name)"
   ]
  },
  {
   "cell_type": "code",
   "execution_count": 35,
   "metadata": {},
   "outputs": [],
   "source": [
    "#connecting to the server\n",
    "\n",
    "from pymongo import MongoClient\n",
    "\n",
    "client = MongoClient(\"mongodb://timanderin.info:27017\")\n",
    "db = client.speech_db\n",
    "debates_collection = db.presidential_speech"
   ]
  },
  {
   "cell_type": "code",
   "execution_count": 54,
   "metadata": {},
   "outputs": [
    {
     "name": "stdout",
     "output_type": "stream",
     "text": [
      "https://millercenter.org/the-presidency/presidential-speeches/october-28-1932-campaign-speech-indianapolis-indiana\n",
      "https://millercenter.org/the-presidency/presidential-speeches/june-12-1895-declaration-us-neutrality-0\n",
      "number of urls to process:  2\n",
      "number of urls:  987\n",
      "number of urls:  989\n"
     ]
    }
   ],
   "source": [
    "#dumping the data to the server\n",
    "\n",
    "count = 0  #verifying....\n",
    "total_count = 0  #verifying....\n",
    "processed_count = 0  #verifying....\n",
    "for link in link_names[0:989]:  #verifying....\n",
    "    total_count += 1  #verifying....\n",
    "    if debates_collection.find_one({'url': link}) != None:  #verifying....\n",
    "        # skip processing this url because it has already been processed\n",
    "        processed_count += 1\n",
    "        next\n",
    "    else:\n",
    "        print(link)\n",
    "        count += 1\n",
    "print(\"number of urls to process: \", count)  #verifying....\n",
    "print(\"number of urls: \", processed_count)  #verifying....\n",
    "print(\"number of urls: \", total_count)      #verifying....\n",
    "    try:   #dumping the data\n",
    "        (debate_date, debate_hash, debate_text, presidents_name) = scrape_text(link)\n",
    "        debates_collection.replace_one(\n",
    "            { \"hash\": debate_hash },\n",
    "            {\n",
    "                \"year\": debate_date,\n",
    "                \"hash\": debate_hash,\n",
    "                \"text\": debate_text,\n",
    "                \"tag\": \"speech\",\n",
    "                \"presidents_name\": presidents_name,\n",
    "                \"url\": link\n",
    "            }, \n",
    "            upsert=True\n",
    "        )\n",
    "    except:\n",
    "        print(link, \" could not be scraped\")\n",
    "    time.sleep(1)   "
   ]
  },
  {
   "cell_type": "code",
   "execution_count": 22,
   "metadata": {},
   "outputs": [
    {
     "data": {
      "text/plain": [
       "Collection(Database(MongoClient(host=['timanderin.info:27017'], document_class=dict, tz_aware=False, connect=True), 'speech_db'), 'presidential_speech')"
      ]
     },
     "execution_count": 22,
     "metadata": {},
     "output_type": "execute_result"
    }
   ],
   "source": [
    "debates_collection"
   ]
  },
  {
   "cell_type": "code",
   "execution_count": 39,
   "metadata": {},
   "outputs": [
    {
     "data": {
      "text/plain": [
       "2064"
      ]
     },
     "execution_count": 39,
     "metadata": {},
     "output_type": "execute_result"
    }
   ],
   "source": [
    "len(link_names)"
   ]
  },
  {
   "cell_type": "code",
   "execution_count": null,
   "metadata": {},
   "outputs": [],
   "source": []
  }
 ],
 "metadata": {
  "kernelspec": {
   "display_name": "Python 3",
   "language": "python",
   "name": "python3"
  },
  "language_info": {
   "codemirror_mode": {
    "name": "ipython",
    "version": 3
   },
   "file_extension": ".py",
   "mimetype": "text/x-python",
   "name": "python",
   "nbconvert_exporter": "python",
   "pygments_lexer": "ipython3",
   "version": "3.6.4"
  }
 },
 "nbformat": 4,
 "nbformat_minor": 2
}
