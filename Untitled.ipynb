{
 "cells": [
  {
   "cell_type": "code",
   "execution_count": 4,
   "metadata": {},
   "outputs": [],
   "source": [
    "import pymongo\n",
    "import pandas as pd\n",
    "import json\n",
    "\n",
    "conn = 'mongodb://timanderin.info:27017'\n",
    "client = pymongo.MongoClient(conn)\n",
    "clean = client.speech_db.clean\n",
    "from sklearn.feature_extraction.text import CountVectorizer\n",
    "import string\n",
    "import json\n",
    "import pprint\n",
    "import nltk\n",
    "from nltk.corpus import stopwords"
   ]
  },
  {
   "cell_type": "code",
   "execution_count": 5,
   "metadata": {},
   "outputs": [],
   "source": [
    "#Stop Words\n",
    "\n",
    "stop_words_better = stopwords.words('english')\n",
    "type(stop_words_better)\n",
    "\n",
    "more_stopping = ['applause','said', 'also', 'let', 'like', 'mr', 'really', 'get']\n",
    "\n",
    "for word in more_stopping:\n",
    "    stop_words_better.append(word)\n",
    "\n",
    "#Count vectorizer - retrieving words count frequencies.\n",
    "stop_words_better = stopwords.words('english')\n",
    "vectorizer=CountVectorizer(stop_words=stop_words_better)"
   ]
  },
  {
   "cell_type": "code",
   "execution_count": 7,
   "metadata": {},
   "outputs": [],
   "source": [
    "decade = 1780\n",
    "decades = {}\n",
    "\n",
    "while decade < 2020:\n",
    "    decade_texts = []\n",
    "    records = clean.find({'decade':decade})\n",
    "    \n",
    "    for record in records:\n",
    "        decade_texts.append(record['text'])\n",
    "        decades[decade] = decade_texts\n",
    "        decade += 10"
   ]
  },
  {
   "cell_type": "code",
   "execution_count": 20,
   "metadata": {},
   "outputs": [
    {
     "ename": "IndexError",
     "evalue": "list index out of range",
     "output_type": "error",
     "traceback": [
      "\u001b[1;31m---------------------------------------------------------------------------\u001b[0m",
      "\u001b[1;31mIndexError\u001b[0m                                Traceback (most recent call last)",
      "\u001b[1;32m<ipython-input-20-77e629ed99e0>\u001b[0m in \u001b[0;36m<module>\u001b[1;34m\u001b[0m\n\u001b[1;32m----> 1\u001b[1;33m \u001b[0mdecade_texts\u001b[0m\u001b[1;33m[\u001b[0m\u001b[1;36m1780\u001b[0m\u001b[1;33m]\u001b[0m\u001b[1;33m\u001b[0m\u001b[1;33m\u001b[0m\u001b[0m\n\u001b[0m",
      "\u001b[1;31mIndexError\u001b[0m: list index out of range"
     ]
    }
   ],
   "source": [
    "decade_texts[1780]"
   ]
  },
  {
   "cell_type": "code",
   "execution_count": 10,
   "metadata": {},
   "outputs": [],
   "source": [
    "decade_jsons = {}\n",
    "\n",
    "for decade, decade_words in decades.items():\n",
    "\n",
    "#Count vectorizer - retrieving words count frequencies.\\n\",\n",
    "\n",
    "    vectorizer=CountVectorizer(stop_words=stop_words_better)\n",
    "    X = vectorizer.fit_transform(decade_words)\n",
    "    words = vectorizer.get_feature_names()\n",
    " \n",
    "# print(len(words))\n",
    "\n",
    "#Matrix of word counts for each debate or speech entry. Needs reshaping so word count and vector array are same size.\\n\",\n",
    "    matrix = X.toarray()\n",
    "    counts = matrix.sum(axis=0)\n",
    "    counts.shape\n",
    "\n",
    "    df = pd.DataFrame({'tag':words, 'weight':counts})\n",
    "    dfsort = df.sort_values(by='weight', ascending = False).head(100)\n",
    "    \n",
    "decade_jsons[decade] = dfsort.to_json"
   ]
  },
  {
   "cell_type": "code",
   "execution_count": 19,
   "metadata": {},
   "outputs": [
    {
     "ename": "KeyError",
     "evalue": "1910",
     "output_type": "error",
     "traceback": [
      "\u001b[1;31m---------------------------------------------------------------------------\u001b[0m",
      "\u001b[1;31mKeyError\u001b[0m                                  Traceback (most recent call last)",
      "\u001b[1;32m<ipython-input-19-b08adc577220>\u001b[0m in \u001b[0;36m<module>\u001b[1;34m\u001b[0m\n\u001b[1;32m----> 1\u001b[1;33m \u001b[0mdecade_jsons\u001b[0m\u001b[1;33m[\u001b[0m\u001b[1;36m1910\u001b[0m\u001b[1;33m]\u001b[0m\u001b[1;33m\u001b[0m\u001b[1;33m\u001b[0m\u001b[0m\n\u001b[0m",
      "\u001b[1;31mKeyError\u001b[0m: 1910"
     ]
    }
   ],
   "source": [
    "decade_jsons[1910]"
   ]
  },
  {
   "cell_type": "code",
   "execution_count": null,
   "metadata": {},
   "outputs": [],
   "source": []
  },
  {
   "cell_type": "code",
   "execution_count": null,
   "metadata": {},
   "outputs": [],
   "source": []
  }
 ],
 "metadata": {
  "kernelspec": {
   "display_name": "Python 3",
   "language": "python",
   "name": "python3"
  },
  "language_info": {
   "codemirror_mode": {
    "name": "ipython",
    "version": 3
   },
   "file_extension": ".py",
   "mimetype": "text/x-python",
   "name": "python",
   "nbconvert_exporter": "python",
   "pygments_lexer": "ipython3",
   "version": "3.7.1"
  }
 },
 "nbformat": 4,
 "nbformat_minor": 2
}
